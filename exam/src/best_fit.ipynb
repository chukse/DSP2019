{
 "cells": [
  {
   "cell_type": "code",
   "execution_count": null,
   "metadata": {},
   "outputs": [],
   "source": [
    "from scipy.io import loadmat\n",
    "import numpy as np\n",
    "from scipy.stats import norm\n",
    "from scipy.optimize import fmin\n",
    "%matplotlib notebook\n",
    "import matplotlib.pyplot as plt\n",
    "from scipy.stats import gompertz\n",
    "%matplotlib inline\n",
    "\n",
    "# load MATLAB data file\n",
    "cells= loadmat(\"cells.mat\")\n",
    "Data  = cells[\"cells\"]\n",
    "\n",
    "time = [0,10,12,14,16,18,20,22]\n",
    "\n",
    "    \n",
    "def getGompertz(la, c, time):\n",
    "    initial_N = 100000\n",
    "    \n",
    "    return  initial_N * np.exp(la*abs(1-np.exp(-c*time)));\n",
    "    \n",
    "    \n",
    "cell_count = np.vectorize(getGompertz)\n",
    "\n",
    "def getLeastSquares(Param):\n",
    "    time = [0,10,12,14,16,18,20,22]\n",
    "    cell = [ 10000, 20000, 30000, 40000, 50000, 60000, 70000, 80000]\n",
    "    \n",
    "    \n",
    "    Expected = cell_count( time, Param[0], Param[1] )    \n",
    "    \n",
    "    \n",
    "    return np.sum( Expected - cell ) ** 2    \n",
    "    \n",
    "\n",
    "\n",
    "\n",
    "Best_Parameters = fmin   ( func = getLeastSquares,\n",
    "                           x0 = np.double([1,0]))    "
   ]
  }
 ],
 "metadata": {
  "kernelspec": {
   "display_name": "Python 3",
   "language": "python",
   "name": "python3"
  },
  "language_info": {
   "codemirror_mode": {
    "name": "ipython",
    "version": 3
   },
   "file_extension": ".py",
   "mimetype": "text/x-python",
   "name": "python",
   "nbconvert_exporter": "python",
   "pygments_lexer": "ipython3",
   "version": "3.7.3"
  }
 },
 "nbformat": 4,
 "nbformat_minor": 2
}
